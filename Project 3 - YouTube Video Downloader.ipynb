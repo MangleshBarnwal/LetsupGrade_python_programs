{
 "cells": [
  {
   "cell_type": "code",
   "execution_count": null,
   "metadata": {},
   "outputs": [],
   "source": [
    "pip install pytube"
   ]
  },
  {
   "cell_type": "code",
   "execution_count": 5,
   "metadata": {},
   "outputs": [],
   "source": [
    "from tkinter import *\n",
    "from pytube import YouTube\n",
    "root=Tk()\n",
    "\n",
    "root.geometry(\"600x300+200+200\")\n",
    "root.title(\"YouTube Video Downloader\")\n",
    "root.configure(background=\"#F5F5F5\")\n",
    "root.resizable(width=False, height=False)\n",
    "def Youtube():\n",
    "    link=var.get()\n",
    "    ytubevideo=YouTube(link).streams.filter(file_extension='mp4').order_by('resolution').desc().first()\n",
    "    ytubevideo.download(\"E:\\Youtube\")\n",
    "l1=Label(root,text=\"YouTube Video Link\",fg=\"red\",font=(\"bold\",10))\n",
    "l1.place(x=90,y=100)\n",
    "var=StringVar()\n",
    "e1=Entry(root,textvariable=var,width=60)\n",
    "e1.place(x=220,y=100)\n",
    "b1=Button(root,text=\"Download\",bg=\"Green\",width=10,fg=\"White\", command=Youtube)\n",
    "b1.place(x=350,y=140)\n",
    "root.mainloop()    "
   ]
  },
  {
   "cell_type": "code",
   "execution_count": null,
   "metadata": {},
   "outputs": [],
   "source": []
  }
 ],
 "metadata": {
  "kernelspec": {
   "display_name": "Python 3",
   "language": "python",
   "name": "python3"
  },
  "language_info": {
   "codemirror_mode": {
    "name": "ipython",
    "version": 3
   },
   "file_extension": ".py",
   "mimetype": "text/x-python",
   "name": "python",
   "nbconvert_exporter": "python",
   "pygments_lexer": "ipython3",
   "version": "3.8.5"
  }
 },
 "nbformat": 4,
 "nbformat_minor": 4
}
