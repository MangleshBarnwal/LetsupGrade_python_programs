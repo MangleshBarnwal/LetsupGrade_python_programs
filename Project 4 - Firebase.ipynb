{
 "cells": [
  {
   "cell_type": "markdown",
   "metadata": {},
   "source": [
    "# Project 4 - Python - Firebase"
   ]
  },
  {
   "cell_type": "markdown",
   "metadata": {},
   "source": [
    "How to read and write to a real time database server using Firebase"
   ]
  },
  {
   "cell_type": "code",
   "execution_count": 1,
   "metadata": {},
   "outputs": [
    {
     "name": "stdout",
     "output_type": "stream",
     "text": [
      "Requirement already satisfied: firebase in c:\\users\\manglesh kumar\\anaconda3\\lib\\site-packages (3.0.1)\n",
      "Requirement already satisfied: requests in c:\\users\\manglesh kumar\\anaconda3\\lib\\site-packages (from firebase) (2.24.0)\n",
      "Requirement already satisfied: urllib3!=1.25.0,!=1.25.1,<1.26,>=1.21.1 in c:\\users\\manglesh kumar\\anaconda3\\lib\\site-packages (from requests->firebase) (1.25.11)\n",
      "Requirement already satisfied: chardet<4,>=3.0.2 in c:\\users\\manglesh kumar\\anaconda3\\lib\\site-packages (from requests->firebase) (3.0.4)\n",
      "Requirement already satisfied: certifi>=2017.4.17 in c:\\users\\manglesh kumar\\anaconda3\\lib\\site-packages (from requests->firebase) (2020.6.20)\n",
      "Requirement already satisfied: idna<3,>=2.5 in c:\\users\\manglesh kumar\\anaconda3\\lib\\site-packages (from requests->firebase) (2.10)\n"
     ]
    }
   ],
   "source": [
    "!pip install firebase"
   ]
  },
  {
   "cell_type": "code",
   "execution_count": 8,
   "metadata": {},
   "outputs": [
    {
     "name": "stdout",
     "output_type": "stream",
     "text": [
      "Collecting firebase_admin\n",
      "  Downloading firebase_admin-4.5.0-py3-none-any.whl (111 kB)\n",
      "Collecting google-cloud-firestore>=1.4.0; platform_python_implementation != \"PyPy\"\n",
      "  Downloading google_cloud_firestore-2.0.2-py2.py3-none-any.whl (196 kB)\n",
      "Collecting cachecontrol>=0.12.6\n",
      "  Downloading CacheControl-0.12.6-py2.py3-none-any.whl (19 kB)\n",
      "Collecting google-api-core[grpc]<2.0.0dev,>=1.14.0; platform_python_implementation != \"PyPy\"\n",
      "  Downloading google_api_core-1.24.1-py2.py3-none-any.whl (92 kB)\n",
      "Collecting google-cloud-storage>=1.18.0\n",
      "  Downloading google_cloud_storage-1.35.0-py2.py3-none-any.whl (96 kB)\n",
      "Collecting google-api-python-client>=1.7.8\n",
      "  Downloading google_api_python_client-1.12.8-py2.py3-none-any.whl (61 kB)\n",
      "Collecting google-cloud-core<2.0dev,>=1.4.1\n",
      "  Downloading google_cloud_core-1.5.0-py2.py3-none-any.whl (27 kB)\n",
      "Collecting proto-plus>=1.3.0\n",
      "  Downloading proto-plus-1.13.0.tar.gz (44 kB)\n",
      "Requirement already satisfied: pytz in c:\\users\\manglesh kumar\\anaconda3\\lib\\site-packages (from google-cloud-firestore>=1.4.0; platform_python_implementation != \"PyPy\"->firebase_admin) (2020.1)\n",
      "Requirement already satisfied: requests in c:\\users\\manglesh kumar\\anaconda3\\lib\\site-packages (from cachecontrol>=0.12.6->firebase_admin) (2.24.0)\n",
      "Requirement already satisfied: msgpack>=0.5.2 in c:\\users\\manglesh kumar\\anaconda3\\lib\\site-packages (from cachecontrol>=0.12.6->firebase_admin) (1.0.0)\n",
      "Requirement already satisfied: setuptools>=34.0.0 in c:\\users\\manglesh kumar\\anaconda3\\lib\\site-packages (from google-api-core[grpc]<2.0.0dev,>=1.14.0; platform_python_implementation != \"PyPy\"->firebase_admin) (50.3.1.post20201107)\n",
      "Collecting protobuf>=3.12.0\n",
      "  Downloading protobuf-3.14.0-py2.py3-none-any.whl (173 kB)\n",
      "Requirement already satisfied: six>=1.13.0 in c:\\users\\manglesh kumar\\anaconda3\\lib\\site-packages (from google-api-core[grpc]<2.0.0dev,>=1.14.0; platform_python_implementation != \"PyPy\"->firebase_admin) (1.15.0)\n",
      "Collecting googleapis-common-protos<2.0dev,>=1.6.0\n",
      "  Downloading googleapis_common_protos-1.52.0-py2.py3-none-any.whl (100 kB)\n",
      "Collecting google-auth<2.0dev,>=1.21.1\n",
      "  Downloading google_auth-1.24.0-py2.py3-none-any.whl (114 kB)\n",
      "Collecting grpcio<2.0dev,>=1.29.0; extra == \"grpc\"\n",
      "  Downloading grpcio-1.34.0-cp38-cp38-win_amd64.whl (2.9 MB)\n",
      "Collecting google-resumable-media<2.0dev,>=1.2.0\n",
      "  Downloading google_resumable_media-1.2.0-py2.py3-none-any.whl (75 kB)\n",
      "Collecting uritemplate<4dev,>=3.0.0\n",
      "  Downloading uritemplate-3.0.1-py2.py3-none-any.whl (15 kB)\n",
      "Collecting httplib2<1dev,>=0.15.0\n",
      "  Downloading httplib2-0.18.1-py3-none-any.whl (95 kB)\n",
      "Collecting google-auth-httplib2>=0.0.3\n",
      "  Downloading google_auth_httplib2-0.0.4-py2.py3-none-any.whl (9.1 kB)\n",
      "Requirement already satisfied: urllib3!=1.25.0,!=1.25.1,<1.26,>=1.21.1 in c:\\users\\manglesh kumar\\anaconda3\\lib\\site-packages (from requests->cachecontrol>=0.12.6->firebase_admin) (1.25.11)\n",
      "Requirement already satisfied: idna<3,>=2.5 in c:\\users\\manglesh kumar\\anaconda3\\lib\\site-packages (from requests->cachecontrol>=0.12.6->firebase_admin) (2.10)\n",
      "Requirement already satisfied: certifi>=2017.4.17 in c:\\users\\manglesh kumar\\anaconda3\\lib\\site-packages (from requests->cachecontrol>=0.12.6->firebase_admin) (2020.6.20)\n",
      "Requirement already satisfied: chardet<4,>=3.0.2 in c:\\users\\manglesh kumar\\anaconda3\\lib\\site-packages (from requests->cachecontrol>=0.12.6->firebase_admin) (3.0.4)\n",
      "Collecting pyasn1-modules>=0.2.1\n",
      "  Downloading pyasn1_modules-0.2.8-py2.py3-none-any.whl (155 kB)\n",
      "Requirement already satisfied: cachetools<5.0,>=2.0.0 in c:\\users\\manglesh kumar\\anaconda3\\lib\\site-packages (from google-auth<2.0dev,>=1.21.1->google-api-core[grpc]<2.0.0dev,>=1.14.0; platform_python_implementation != \"PyPy\"->firebase_admin) (4.2.0)\n",
      "Collecting rsa<5,>=3.1.4; python_version >= \"3.6\"\n",
      "  Downloading rsa-4.6-py3-none-any.whl (47 kB)\n",
      "Collecting google-crc32c<2.0dev,>=1.0; python_version >= \"3.5\"\n",
      "  Downloading google-crc32c-1.1.0.tar.gz (14 kB)\n",
      "  Installing build dependencies: started\n",
      "  Installing build dependencies: finished with status 'done'\n",
      "  Getting requirements to build wheel: started\n",
      "  Getting requirements to build wheel: finished with status 'done'\n",
      "  Installing backend dependencies: started\n",
      "  Installing backend dependencies: finished with status 'done'\n",
      "    Preparing wheel metadata: started\n",
      "    Preparing wheel metadata: finished with status 'done'\n",
      "Collecting pyasn1<0.5.0,>=0.4.6\n",
      "  Downloading pyasn1-0.4.8-py2.py3-none-any.whl (77 kB)\n",
      "Requirement already satisfied: cffi>=1.0.0 in c:\\users\\manglesh kumar\\anaconda3\\lib\\site-packages (from google-crc32c<2.0dev,>=1.0; python_version >= \"3.5\"->google-resumable-media<2.0dev,>=1.2.0->google-cloud-storage>=1.18.0->firebase_admin) (1.14.3)\n",
      "Requirement already satisfied: pycparser in c:\\users\\manglesh kumar\\anaconda3\\lib\\site-packages (from cffi>=1.0.0->google-crc32c<2.0dev,>=1.0; python_version >= \"3.5\"->google-resumable-media<2.0dev,>=1.2.0->google-cloud-storage>=1.18.0->firebase_admin) (2.20)\n",
      "Building wheels for collected packages: proto-plus, google-crc32c\n",
      "  Building wheel for proto-plus (setup.py): started\n",
      "  Building wheel for proto-plus (setup.py): finished with status 'done'\n",
      "  Created wheel for proto-plus: filename=proto_plus-1.13.0-py3-none-any.whl size=41595 sha256=4f5ccb9a366c9c5e1e7731f5090f5a9cc2404c98ecb0bb175fd02dd0925f3a63\n",
      "  Stored in directory: c:\\users\\manglesh kumar\\appdata\\local\\pip\\cache\\wheels\\c4\\f7\\51\\d264693ef5a67296bb5601bca5834f5d5b12e325eb4b2d3f7f\n",
      "  Building wheel for google-crc32c (PEP 517): started\n",
      "  Building wheel for google-crc32c (PEP 517): finished with status 'done'\n",
      "  Created wheel for google-crc32c: filename=google_crc32c-1.1.0-py3-none-any.whl size=14065 sha256=d279238dc388b2e6a745f996db4690cc4f20db97da7aaff0d7faaf09197b0339\n",
      "  Stored in directory: c:\\users\\manglesh kumar\\appdata\\local\\pip\\cache\\wheels\\ff\\b6\\b6\\fed658e7c3ce2ed7f140cf7739276593386464b11ee72f0752\n",
      "Successfully built proto-plus google-crc32c\n",
      "Installing collected packages: protobuf, googleapis-common-protos, pyasn1, pyasn1-modules, rsa, google-auth, grpcio, google-api-core, google-cloud-core, proto-plus, google-cloud-firestore, cachecontrol, google-crc32c, google-resumable-media, google-cloud-storage, uritemplate, httplib2, google-auth-httplib2, google-api-python-client, firebase-admin\n",
      "Successfully installed cachecontrol-0.12.6 firebase-admin-4.5.0 google-api-core-1.24.1 google-api-python-client-1.12.8 google-auth-1.24.0 google-auth-httplib2-0.0.4 google-cloud-core-1.5.0 google-cloud-firestore-2.0.2 google-cloud-storage-1.35.0 google-crc32c-1.1.0 google-resumable-media-1.2.0 googleapis-common-protos-1.52.0 grpcio-1.34.0 httplib2-0.18.1 proto-plus-1.13.0 protobuf-3.14.0 pyasn1-0.4.8 pyasn1-modules-0.2.8 rsa-4.6 uritemplate-3.0.1\n"
     ]
    }
   ],
   "source": [
    "#Step 2 - Create a project in Firebase\n",
    "!pip install firebase_admin"
   ]
  },
  {
   "cell_type": "code",
   "execution_count": 9,
   "metadata": {},
   "outputs": [],
   "source": [
    "#Step 3 - Import Firebase\n",
    "\n",
    "import firebase_admin"
   ]
  },
  {
   "cell_type": "code",
   "execution_count": 10,
   "metadata": {},
   "outputs": [],
   "source": [
    "#Step 4 -\n",
    "from firebase_admin import credentials\n",
    "from firebase_admin import firestore\n"
   ]
  },
  {
   "cell_type": "code",
   "execution_count": 11,
   "metadata": {},
   "outputs": [],
   "source": [
    "#Step 5 - Download the cred key from the Firebase"
   ]
  },
  {
   "cell_type": "code",
   "execution_count": 12,
   "metadata": {},
   "outputs": [],
   "source": [
    "#Step 6 - Place the key into your python project folder"
   ]
  },
  {
   "cell_type": "code",
   "execution_count": 13,
   "metadata": {},
   "outputs": [
    {
     "data": {
      "text/plain": [
       "<firebase_admin.App at 0x2c89f590dc0>"
      ]
     },
     "execution_count": 13,
     "metadata": {},
     "output_type": "execute_result"
    }
   ],
   "source": [
    "cred = credentials.Certificate(\"python-firebase-3ae02-firebase-adminsdk-d6vs0-3abe5860a4.json\")\n",
    "firebase_admin.initialize_app(cred)"
   ]
  },
  {
   "cell_type": "code",
   "execution_count": 14,
   "metadata": {},
   "outputs": [],
   "source": [
    "db = firestore.client()"
   ]
  },
  {
   "cell_type": "code",
   "execution_count": 15,
   "metadata": {},
   "outputs": [
    {
     "data": {
      "text/plain": [
       "update_time {\n",
       "  seconds: 1608370607\n",
       "  nanos: 218451000\n",
       "}"
      ]
     },
     "execution_count": 15,
     "metadata": {},
     "output_type": "execute_result"
    }
   ],
   "source": [
    "doc_ref = db.collection(u'users').document(u'abc')\n",
    "doc_ref.set({\n",
    "    u'first': u'Manish',\n",
    "    u'last': u'Agrawal',\n",
    "    u'born': 1999\n",
    "})"
   ]
  },
  {
   "cell_type": "code",
   "execution_count": 26,
   "metadata": {},
   "outputs": [],
   "source": [
    "#Step 7 - Creating a function to add data into database\n",
    "\n",
    "def enterDataInDB():\n",
    "\n",
    "    doc_ref = db.collection(u'Students').document()\n",
    "    \n",
    "    name = input(\"Enter Name - \")\n",
    "    lastName = input(\"Enter Last Name - \")\n",
    "    age = int(input(\"Enter Age - \"))\n",
    "    \n",
    "    dit = {}\n",
    "    dit[\"firstName\"] = name\n",
    "    dit[\"lastName\"] = lastName\n",
    "    dit[\"age\"] = age\n",
    "    \n",
    "    doc_ref.set(dit)"
   ]
  },
  {
   "cell_type": "code",
   "execution_count": 20,
   "metadata": {},
   "outputs": [
    {
     "name": "stdout",
     "output_type": "stream",
     "text": [
      "Enter Name - Yash\n",
      "Enter Last Name - Mishra\n",
      "Enter Age - 34\n"
     ]
    }
   ],
   "source": [
    "enterDataInDB(\"Yash\",\"Mishra\",34)"
   ]
  },
  {
   "cell_type": "code",
   "execution_count": 21,
   "metadata": {},
   "outputs": [
    {
     "name": "stdout",
     "output_type": "stream",
     "text": [
      "Enter Name - Kriti\n",
      "Enter Last Name - Sanon\n",
      "Enter Age - 35\n"
     ]
    }
   ],
   "source": [
    "enterDataInDB(\"Kriti\",\"Sanon\",35)"
   ]
  },
  {
   "cell_type": "code",
   "execution_count": 22,
   "metadata": {},
   "outputs": [
    {
     "name": "stdout",
     "output_type": "stream",
     "text": [
      "Enter Name - Riya\n",
      "Enter Last Name - Pandey\n",
      "Enter Age - 22\n"
     ]
    }
   ],
   "source": [
    "enterDataInDB(\"Riya\",\"Pandey\",22)"
   ]
  },
  {
   "cell_type": "code",
   "execution_count": 25,
   "metadata": {},
   "outputs": [],
   "source": [
    "enterDataInDB(\"Manglesh\",\"Barnwal\",23)"
   ]
  },
  {
   "cell_type": "code",
   "execution_count": 27,
   "metadata": {},
   "outputs": [],
   "source": [
    "#Step 8 - Read data from Firebase DB(Firestore)"
   ]
  },
  {
   "cell_type": "code",
   "execution_count": 29,
   "metadata": {},
   "outputs": [
    {
     "name": "stdout",
     "output_type": "stream",
     "text": [
      "ID -  7ifWp3yD39N7SnYChso9\n",
      "First Name -  Yash\n",
      "Last Name -  Mishra\n",
      "Age -  34\n",
      "---------------\n",
      "---------------\n",
      "ID -  DwLGAlCwfJIYeAWyVODw\n",
      "First Name -  Kriti\n",
      "Last Name -  Sanon\n",
      "Age -  35\n",
      "---------------\n",
      "---------------\n",
      "ID -  IpvFuug0jru9u6rqZrKX\n",
      "First Name -  Riya\n",
      "Last Name -  Pandey\n",
      "Age -  22\n",
      "---------------\n",
      "---------------\n",
      "ID -  v9vzDISsiNt8EEpEARED\n",
      "First Name -  Manglesh\n",
      "Last Name -  Barnwal\n",
      "Age -  23\n",
      "---------------\n",
      "---------------\n",
      "ID -  xvG894Dm2VywRerBWOap\n",
      "First Name -  Manglesh\n",
      "Last Name -  Barnwal\n",
      "Age -  23\n",
      "---------------\n",
      "---------------\n"
     ]
    }
   ],
   "source": [
    "docs = db.collection(u'Students').stream()\n",
    "\n",
    "for doc in docs:\n",
    "   # print(f'{doc.id} => {doc.to_dict()}')\n",
    "        \n",
    "    print(\"ID - \", doc.id)\n",
    "    \n",
    "    print(\"First Name - \", doc.to_dict().get(\"firstName\"))\n",
    "    print(\"Last Name - \", doc.to_dict().get(\"lastName\"))\n",
    "    print(\"Age - \", doc.to_dict().get(\"age\") )\n",
    "    \n",
    "    print(\"---------------\")\n",
    "    print(\"---------------\")\n",
    "        "
   ]
  },
  {
   "cell_type": "code",
   "execution_count": 31,
   "metadata": {},
   "outputs": [],
   "source": [
    "#Step 9 - Update Entries\n",
    "\n",
    "def updateDatainFirebase(uid, updatedAge):\n",
    "\n",
    "    doc_ref = db.collection(u'Students').document(uid)\n",
    "    \n",
    "    doc_ref.update({\"age\":updatedAge})"
   ]
  },
  {
   "cell_type": "code",
   "execution_count": 32,
   "metadata": {},
   "outputs": [],
   "source": [
    "updateDatainFirebase(\"v9vzDISsiNt8EEpEARED\",24)"
   ]
  },
  {
   "cell_type": "code",
   "execution_count": 33,
   "metadata": {},
   "outputs": [],
   "source": [
    "updateDatainFirebase(\"7ifWp3yD39N7SnYChso9\",28)"
   ]
  },
  {
   "cell_type": "code",
   "execution_count": 34,
   "metadata": {},
   "outputs": [],
   "source": [
    "# Step 10 - Delete Data from Firebase \n",
    "\n",
    "def deleteDataInFirebase(uid):\n",
    "   \n",
    "    db.collection(u'Students').document(uid).delete()\n"
   ]
  },
  {
   "cell_type": "code",
   "execution_count": 35,
   "metadata": {},
   "outputs": [],
   "source": [
    "deleteDataInFirebase(\"v9vzDISsiNt8EEpEARED\")"
   ]
  },
  {
   "cell_type": "code",
   "execution_count": null,
   "metadata": {},
   "outputs": [],
   "source": []
  }
 ],
 "metadata": {
  "kernelspec": {
   "display_name": "Python 3",
   "language": "python",
   "name": "python3"
  },
  "language_info": {
   "codemirror_mode": {
    "name": "ipython",
    "version": 3
   },
   "file_extension": ".py",
   "mimetype": "text/x-python",
   "name": "python",
   "nbconvert_exporter": "python",
   "pygments_lexer": "ipython3",
   "version": "3.8.5"
  }
 },
 "nbformat": 4,
 "nbformat_minor": 4
}
